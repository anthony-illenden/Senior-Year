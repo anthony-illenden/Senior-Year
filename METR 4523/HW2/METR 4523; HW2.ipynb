{
 "cells": [
  {
   "cell_type": "code",
   "execution_count": 1,
   "metadata": {},
   "outputs": [],
   "source": [
    "import numpy as np\n",
    "import matplotlib.pyplot as plt\n",
    "import cartopy.crs as ccrs\n",
    "import cartopy.feature as cfeature\n",
    "from datetime import datetime\n",
    "from netCDF4 import Dataset,num2date\n",
    "from cartopy.util import add_cyclic_point"
   ]
  },
  {
   "cell_type": "code",
   "execution_count": 37,
   "metadata": {},
   "outputs": [
    {
     "name": "stdout",
     "output_type": "stream",
     "text": [
      "['lon', 'lat', 'time', 'precip']\n",
      "[1979 1980 1981 1982 1983 1984 1985 1986 1987 1988 1989 1990 1991 1992\n",
      " 1993 1994 1995 1996 1997 1998 1999 2000 2001 2002 2003 2004 2005 2006\n",
      " 2007 2008 2009 2010 2011 2012 2013 2014 2015 2016 2017 2018 2019 2020\n",
      " 2021 2022]\n",
      "44\n"
     ]
    }
   ],
   "source": [
    "#============================================================================\n",
    "# You will load the precip data file using the netCDF4 module.\n",
    "# The time dimension for each file is monthly. That means the\n",
    "# first time element is January 1979, the second is February 1979, etc.\n",
    "# all the way to December 2019.\n",
    "# The dimensions of the variable temperature are:\n",
    "# time x latitude x longitude.\n",
    "#============================================================================\n",
    "precipFile = 'precip.mon.mean.nc' # The file to open\n",
    "\n",
    "#============================================================================\n",
    "# Load the variables you need. Type 'nc.variables' into the Python\n",
    "# command line to see what the names of the variables are and their\n",
    "# dimensions (nc is the 'file handler' for the netCDF file you open).\n",
    "# An example is below.\n",
    "#============================================================================\n",
    "nc = Dataset(precipFile,'r') # Opens the netCDF file\n",
    "longitude = nc.variables['lon'][:] # Reads in all longitudes into an array.\n",
    "latitude = nc.variables['lat'][:] # Read in all latitude points.\n",
    "precip = nc.variables['precip'][:]\n",
    "#precip1 = nc.variables['precip'][:,:,:] # This will be a 3-D array of all monthly precipitation rates.\n",
    "\n",
    "print(list(nc.variables))\n",
    "\n",
    "# Convert missing values to NaN for computations.\n",
    "precip = np.where(precip.mask,np.nan,precip.data)\n",
    "\n",
    "# precip[0,:,:] will be the global precipitation rate for January 1979.\n",
    "\n",
    "units = nc.variables['precip'].units # Get the units of the variable.\n",
    "\n",
    "#============================================================================\n",
    "# Load in the time variable and also some associated time\n",
    "# properties to get the dates.\n",
    "#============================================================================\n",
    "time = nc.variables['time'][:] # Read in the times (which in this case is years).\n",
    "timeUnits = nc.variables['time'].units\n",
    "dates = num2date(time,timeUnits,calendar='standard')\n",
    "years = np.array([d.year for d in dates])\n",
    "months = np.array([d.month for d in dates])\n",
    "\n",
    "nc.close() # closes the netCDF file.\n",
    "\n",
    "total_years = np.unique(years)\n",
    "\n",
    "print(total_years)\n",
    "print(len(total_years))"
   ]
  },
  {
   "cell_type": "code",
   "execution_count": 32,
   "metadata": {},
   "outputs": [
    {
     "name": "stdout",
     "output_type": "stream",
     "text": [
      "<class 'numpy.ndarray'>\n",
      "(528, 94, 192)\n"
     ]
    }
   ],
   "source": [
    "print(type(precip))\n",
    "print(precip.shape)\n",
    "#print(precip[0,:,:])\n",
    "#print(years)"
   ]
  },
  {
   "cell_type": "code",
   "execution_count": 64,
   "metadata": {},
   "outputs": [
    {
     "name": "stderr",
     "output_type": "stream",
     "text": [
      "C:\\Users\\Tony\\AppData\\Local\\Temp/ipykernel_17296/2215444765.py:28: RuntimeWarning: Mean of empty slice\n",
      "  annualAverage[year, i, j] = np.nanmean(precip[year_loop, i, j])\n"
     ]
    }
   ],
   "source": [
    "#============================================================================\n",
    "# Calculate the ANNUAL-AVERAGE precipitation at each grid point.\n",
    "# You can loop through the years (1979 to 2022), find (using np.where)\n",
    "# where in the array the data for that particular year is (using the years array),\n",
    "# and then average all the values for that year and store it in a new array.\n",
    "# Use np.nanmean for averaging (in case of missing data).\n",
    "\n",
    "# Remember, you can declare empty arrays to fill using the np.zeros() or np.ones()\n",
    "# functions.\n",
    "#============================================================================\n",
    "annualAverage = np.empty((len(np.unique(years)), len(latitude), len(longitude)))\n",
    "\n",
    "len_years = len(np.unique(years))\n",
    "len_lats = len(latitude)\n",
    "len_lons = len(longitude)\n",
    "yearly_indices = []\n",
    "\n",
    "#for i in range(len_years):\n",
    "#    yearly = np.where(years == np.unique(years)[i])[0]\n",
    "#    for j in range(len_lats): \n",
    "#        for k in range(len_lons): \n",
    "#            annualAverage[yearly, j, k] = np.nanmean(precip[yearly, j, k])\n",
    "\n",
    "for year in range (len_years):\n",
    "    year_loop = np.where(years == total_years[year])[0]\n",
    "    for i in range(len_lats):\n",
    "        for j in range(len_lons):\n",
    "            annualAverage[year, i, j] = np.nanmean(precip[year_loop, i, j])\n",
    "\n",
    "#============================================================================\n",
    "# Calculate the average over all years (Dimension 0 in annualAverage) to make\n",
    "# the spatial map (the first plot). Again, use np.nanmean in case of missing data.\n",
    "#============================================================================\n",
    "climoPrecip = np.nanmean(annualAverage,axis=0) # This will be dimensions lat x lon.\n",
    "# DJFT_zonalMean = np.nanmean(DJFT,axis=3)\n",
    "\n",
    "#============================================================================\n",
    "# Calculate the GLOBAL AREA-AVERAGED precipitation for each year.\n",
    "# (1) First, average over all longitudes (see HW #1). Put the result\n",
    "# into zonalMeanPrecip.\n",
    "#============================================================================\n",
    "zonalMeanPrecip = np.nanmean(precip,axis=2)\n",
    "#print(precip.shape)"
   ]
  },
  {
   "cell_type": "code",
   "execution_count": 65,
   "metadata": {},
   "outputs": [
    {
     "name": "stdout",
     "output_type": "stream",
     "text": [
      "[[[0.47195898 0.46448933 0.45719338 ... 0.49679993 0.48869333 0.47994978]\n",
      "  [0.38539203 0.37242147 0.36014575 ... 0.43906933 0.42019253 0.40177896]\n",
      "  [0.68365715 0.7017812  0.72390065 ... 0.65180978 0.65806345 0.66761766]\n",
      "  ...\n",
      "  [0.03489723 0.06877125 0.13489798 ... 0.00994047 0.01254616 0.01932097]\n",
      "  [0.01243035 0.01364634 0.015673   ... 0.00982466 0.01028789 0.01115646]\n",
      "  [0.06222806 0.064081   0.06616556 ... 0.05817476 0.05962237 0.06054884]]\n",
      "\n",
      " [[0.36773122 0.3607827  0.35354466 ... 0.39407768 0.38377071 0.37716962]\n",
      "  [0.25348601 0.24676911 0.24039963 ... 0.28608614 0.27357881 0.26321393]\n",
      "  [0.60195417 0.62048355 0.64237138 ... 0.55846803 0.57172811 0.58585677]\n",
      "  ...\n",
      "  [0.04045604 0.07722528 0.15279041 ... 0.01063532 0.01410958 0.02204247]\n",
      "  [0.02933841 0.03472351 0.04178784 ... 0.01885773 0.02169504 0.02545882]\n",
      "  [0.10640905 0.11046236 0.11619488 ... 0.09714436 0.09946054 0.10189252]]\n",
      "\n",
      " [[0.55603605 0.5486822  0.54231272 ... 0.58006634 0.57091745 0.5635057 ]\n",
      "  [0.55528329 0.5447447  0.53588534 ... 0.59876943 0.5822088  0.56831176]\n",
      "  [0.84665779 0.88336913 0.92604461 ... 0.78157335 0.79819188 0.81955857]\n",
      "  ...\n",
      "  [0.03344962 0.06164902 0.11995866 ... 0.01098275 0.01324101 0.01937887]\n",
      "  [0.0117355  0.01358844 0.01596252 ... 0.00994047 0.01022999 0.01080903]\n",
      "  [0.0962758  0.10021329 0.10501935 ... 0.08706901 0.08950099 0.09262783]]\n",
      "\n",
      " ...\n",
      "\n",
      " [[0.63374363 0.62818482 0.62372619 ... 0.65233092 0.64555611 0.63953407]\n",
      "  [0.47184317 0.46060974 0.44873935 ... 0.5097126  0.49627879 0.48353985]\n",
      "  [0.72806976 0.75065244 0.77410369 ... 0.67300276 0.68950549 0.7071084 ]\n",
      "  ...\n",
      "  [0.04051395 0.09199088 0.1956975  ... 0.00380261 0.00826124 0.01700479]\n",
      "  [0.02945422 0.04242479 0.05933285 ... 0.00988256 0.01405167 0.02042115]\n",
      "  [0.15470125 0.16159186 0.16888781 ... 0.1365193  0.14178859 0.14757902]]\n",
      "\n",
      " [[0.60479148 0.60259111 0.60079608 ... 0.61619863 0.61214533 0.60948173]\n",
      "  [0.39604643 0.3903139  0.38793982 ... 0.42036624 0.40976975 0.40287914]\n",
      "  [0.46240477 0.49847916 0.54115464 ... 0.39732032 0.41069622 0.43241034]\n",
      "  ...\n",
      "  [0.03379705 0.07375102 0.16002845 ... 0.00351309 0.00698735 0.01549928]\n",
      "  [0.01746803 0.02453236 0.03350752 ... 0.00640831 0.00866657 0.01231455]\n",
      "  [0.11474728 0.1204798  0.12800736 ... 0.09975006 0.10368755 0.10884104]]\n",
      "\n",
      " [[0.54132835 0.53507468 0.52824198 ... 0.56576397 0.55765737 0.550014  ]\n",
      "  [0.4748542  0.46842682 0.46223106 ... 0.50646995 0.49488909 0.4842347 ]\n",
      "  [0.77775166 0.80073967 0.82338026 ... 0.71596776 0.73513409 0.75511107]\n",
      "  ...\n",
      "  [0.03194411 0.07305617 0.16413965 ... 0.00270243 0.00640831 0.01468862]\n",
      "  [0.01028789 0.01335682 0.0171206  ... 0.00472908 0.00617669 0.0076243 ]\n",
      "  [0.15122699 0.15585934 0.16049168 ... 0.14283087 0.14549447 0.14810016]]]\n"
     ]
    }
   ],
   "source": [
    "print(annualAverage)"
   ]
  },
  {
   "cell_type": "code",
   "execution_count": 66,
   "metadata": {},
   "outputs": [
    {
     "name": "stdout",
     "output_type": "stream",
     "text": [
      "[[0.49754874 0.4907213  0.48459923 ... 0.52013274 0.51218011 0.50475914]\n",
      " [0.39914826 0.38832936 0.37958844 ... 0.44054458 0.42490252 0.41106339]\n",
      " [0.64511657 0.66632271 0.69100705 ... 0.60361365 0.61394562 0.62824009]\n",
      " ...\n",
      " [0.05075906 0.10824357 0.22042396 ... 0.00946236 0.01369867 0.02464603]\n",
      " [0.01979128 0.02497097 0.03205992 ... 0.01154425 0.01338552 0.01593281]\n",
      " [0.11547371 0.11997182 0.12524112 ... 0.10519964 0.10805143 0.11151385]]\n"
     ]
    }
   ],
   "source": [
    "print(climoPrecip)"
   ]
  },
  {
   "cell_type": "code",
   "execution_count": 67,
   "metadata": {},
   "outputs": [
    {
     "name": "stdout",
     "output_type": "stream",
     "text": [
      "[[0.34798223 0.22020551 0.30476752 ... 0.54968467 0.33626384 0.16682859]\n",
      " [0.21152348 0.10832713 0.17927801 ... 0.38627869 0.199863   0.13861471]\n",
      " [0.32528736 0.15764351 0.20243612 ... 0.73355981 0.25076089 0.10926808]\n",
      " ...\n",
      " [0.33215264 0.35839777 0.56020878 ... 0.49166454 0.32203024 0.10586258]\n",
      " [0.30446714 0.30349724 0.36168022 ... 0.71751308 0.42496239 0.19555998]\n",
      " [0.7263073  0.45419322 0.64252338 ... 1.2094247  0.7741254  0.25793017]]\n"
     ]
    }
   ],
   "source": [
    "print(zonalMeanPrecip)"
   ]
  },
  {
   "cell_type": "code",
   "execution_count": null,
   "metadata": {},
   "outputs": [],
   "source": [
    "#============================================================================\n",
    "# (2) Next, do a WEIGHTED AVERAGE over all latitudes for each year. Remember,\n",
    "# a weighted average is:\n",
    "#     avg = sum(x_i*w_i) / sum(w_i) for all i (i.e., all latitude points)\n",
    "#     For latitude, w_i= cosine(lat_i). See the weights array below.\n",
    "\n",
    "# Store the answer in the variable globalAvgPrecip.\n",
    "#============================================================================\n",
    "weights = np.cos(np.radians(latitude)) # The weights for the weighted average\n",
    "sumWeights = np.sum(weights) # The denominator for the averaging.\n",
    "\n",
    "globalAvgPrecip = ? # Will have dimensions of time - one value per year.\n",
    "\n",
    "\n",
    "#============================================================================\n",
    "# Now, average globalAvgPrecip over all years to get the global climatological\n",
    "# precipitation rate (one single number).\n",
    "#============================================================================\n",
    "climoGlobalPrecip = ?\n",
    "\n",
    "print('The average global precipitation rate is {:2.3} mm/day.'.format(climoGlobalPrecip))"
   ]
  },
  {
   "cell_type": "code",
   "execution_count": 26,
   "metadata": {},
   "outputs": [
    {
     "name": "stdout",
     "output_type": "stream",
     "text": [
      "[[0.49754874 0.4907213  0.48459923 ... 0.52013274 0.51218011 0.50475914]\n",
      " [0.39914826 0.38832936 0.37958844 ... 0.44054458 0.42490252 0.41106339]\n",
      " [0.64511657 0.66632271 0.69100705 ... 0.60361365 0.61394562 0.62824009]\n",
      " ...\n",
      " [0.05075906 0.10824357 0.22042396 ... 0.00951032 0.01360216 0.0245178 ]\n",
      " [0.01978221 0.02499294 0.03206673 ... 0.01162207 0.01340034 0.01594515]\n",
      " [0.11547371 0.11997182 0.12524112 ... 0.10519964 0.10805143 0.11151385]]\n"
     ]
    }
   ],
   "source": [
    "print(annualAverage)"
   ]
  },
  {
   "cell_type": "code",
   "execution_count": 27,
   "metadata": {},
   "outputs": [
    {
     "ename": "ValueError",
     "evalue": "shape mismatch: objects cannot be broadcast to a single shape.  Mismatch is between arg 0 with shape (528,) and arg 1 with shape (94, 192).",
     "output_type": "error",
     "traceback": [
      "\u001b[1;31m---------------------------------------------------------------------------\u001b[0m",
      "\u001b[1;31mValueError\u001b[0m                                Traceback (most recent call last)",
      "\u001b[1;32m~\\AppData\\Local\\Temp/ipykernel_17296/458063279.py\u001b[0m in \u001b[0;36m<module>\u001b[1;34m\u001b[0m\n\u001b[0;32m      3\u001b[0m \u001b[1;31m#ax = fig.add_subplot(1, 1, 1)\u001b[0m\u001b[1;33m\u001b[0m\u001b[1;33m\u001b[0m\u001b[0m\n\u001b[0;32m      4\u001b[0m \u001b[1;33m\u001b[0m\u001b[0m\n\u001b[1;32m----> 5\u001b[1;33m \u001b[0mplt\u001b[0m\u001b[1;33m.\u001b[0m\u001b[0mbar\u001b[0m\u001b[1;33m(\u001b[0m\u001b[0myears\u001b[0m\u001b[1;33m,\u001b[0m\u001b[0mannualAverage\u001b[0m\u001b[1;33m,\u001b[0m\u001b[0mlabel\u001b[0m\u001b[1;33m=\u001b[0m\u001b[1;34m\"Bars 1\"\u001b[0m\u001b[1;33m,\u001b[0m\u001b[0mcolor\u001b[0m\u001b[1;33m=\u001b[0m\u001b[1;34m\"black\"\u001b[0m\u001b[1;33m)\u001b[0m\u001b[1;33m\u001b[0m\u001b[1;33m\u001b[0m\u001b[0m\n\u001b[0m\u001b[0;32m      6\u001b[0m \u001b[0mplt\u001b[0m\u001b[1;33m.\u001b[0m\u001b[0mxlabel\u001b[0m\u001b[1;33m(\u001b[0m\u001b[1;34m'Rainfall Rate (mm/day)'\u001b[0m\u001b[1;33m)\u001b[0m\u001b[1;33m\u001b[0m\u001b[1;33m\u001b[0m\u001b[0m\n\u001b[0;32m      7\u001b[0m \u001b[0mplt\u001b[0m\u001b[1;33m.\u001b[0m\u001b[0mylabel\u001b[0m\u001b[1;33m(\u001b[0m\u001b[1;34m'Year'\u001b[0m\u001b[1;33m)\u001b[0m\u001b[1;33m\u001b[0m\u001b[1;33m\u001b[0m\u001b[0m\n",
      "\u001b[1;32m~\\anaconda3\\lib\\site-packages\\matplotlib\\pyplot.py\u001b[0m in \u001b[0;36mbar\u001b[1;34m(x, height, width, bottom, align, data, **kwargs)\u001b[0m\n\u001b[0;32m   2397\u001b[0m         \u001b[0mx\u001b[0m\u001b[1;33m,\u001b[0m \u001b[0mheight\u001b[0m\u001b[1;33m,\u001b[0m \u001b[0mwidth\u001b[0m\u001b[1;33m=\u001b[0m\u001b[1;36m0.8\u001b[0m\u001b[1;33m,\u001b[0m \u001b[0mbottom\u001b[0m\u001b[1;33m=\u001b[0m\u001b[1;32mNone\u001b[0m\u001b[1;33m,\u001b[0m \u001b[1;33m*\u001b[0m\u001b[1;33m,\u001b[0m \u001b[0malign\u001b[0m\u001b[1;33m=\u001b[0m\u001b[1;34m'center'\u001b[0m\u001b[1;33m,\u001b[0m\u001b[1;33m\u001b[0m\u001b[1;33m\u001b[0m\u001b[0m\n\u001b[0;32m   2398\u001b[0m         data=None, **kwargs):\n\u001b[1;32m-> 2399\u001b[1;33m     return gca().bar(\n\u001b[0m\u001b[0;32m   2400\u001b[0m         \u001b[0mx\u001b[0m\u001b[1;33m,\u001b[0m \u001b[0mheight\u001b[0m\u001b[1;33m,\u001b[0m \u001b[0mwidth\u001b[0m\u001b[1;33m=\u001b[0m\u001b[0mwidth\u001b[0m\u001b[1;33m,\u001b[0m \u001b[0mbottom\u001b[0m\u001b[1;33m=\u001b[0m\u001b[0mbottom\u001b[0m\u001b[1;33m,\u001b[0m \u001b[0malign\u001b[0m\u001b[1;33m=\u001b[0m\u001b[0malign\u001b[0m\u001b[1;33m,\u001b[0m\u001b[1;33m\u001b[0m\u001b[1;33m\u001b[0m\u001b[0m\n\u001b[0;32m   2401\u001b[0m         **({\"data\": data} if data is not None else {}), **kwargs)\n",
      "\u001b[1;32m~\\anaconda3\\lib\\site-packages\\matplotlib\\__init__.py\u001b[0m in \u001b[0;36minner\u001b[1;34m(ax, data, *args, **kwargs)\u001b[0m\n\u001b[0;32m   1410\u001b[0m     \u001b[1;32mdef\u001b[0m \u001b[0minner\u001b[0m\u001b[1;33m(\u001b[0m\u001b[0max\u001b[0m\u001b[1;33m,\u001b[0m \u001b[1;33m*\u001b[0m\u001b[0margs\u001b[0m\u001b[1;33m,\u001b[0m \u001b[0mdata\u001b[0m\u001b[1;33m=\u001b[0m\u001b[1;32mNone\u001b[0m\u001b[1;33m,\u001b[0m \u001b[1;33m**\u001b[0m\u001b[0mkwargs\u001b[0m\u001b[1;33m)\u001b[0m\u001b[1;33m:\u001b[0m\u001b[1;33m\u001b[0m\u001b[1;33m\u001b[0m\u001b[0m\n\u001b[0;32m   1411\u001b[0m         \u001b[1;32mif\u001b[0m \u001b[0mdata\u001b[0m \u001b[1;32mis\u001b[0m \u001b[1;32mNone\u001b[0m\u001b[1;33m:\u001b[0m\u001b[1;33m\u001b[0m\u001b[1;33m\u001b[0m\u001b[0m\n\u001b[1;32m-> 1412\u001b[1;33m             \u001b[1;32mreturn\u001b[0m \u001b[0mfunc\u001b[0m\u001b[1;33m(\u001b[0m\u001b[0max\u001b[0m\u001b[1;33m,\u001b[0m \u001b[1;33m*\u001b[0m\u001b[0mmap\u001b[0m\u001b[1;33m(\u001b[0m\u001b[0msanitize_sequence\u001b[0m\u001b[1;33m,\u001b[0m \u001b[0margs\u001b[0m\u001b[1;33m)\u001b[0m\u001b[1;33m,\u001b[0m \u001b[1;33m**\u001b[0m\u001b[0mkwargs\u001b[0m\u001b[1;33m)\u001b[0m\u001b[1;33m\u001b[0m\u001b[1;33m\u001b[0m\u001b[0m\n\u001b[0m\u001b[0;32m   1413\u001b[0m \u001b[1;33m\u001b[0m\u001b[0m\n\u001b[0;32m   1414\u001b[0m         \u001b[0mbound\u001b[0m \u001b[1;33m=\u001b[0m \u001b[0mnew_sig\u001b[0m\u001b[1;33m.\u001b[0m\u001b[0mbind\u001b[0m\u001b[1;33m(\u001b[0m\u001b[0max\u001b[0m\u001b[1;33m,\u001b[0m \u001b[1;33m*\u001b[0m\u001b[0margs\u001b[0m\u001b[1;33m,\u001b[0m \u001b[1;33m**\u001b[0m\u001b[0mkwargs\u001b[0m\u001b[1;33m)\u001b[0m\u001b[1;33m\u001b[0m\u001b[1;33m\u001b[0m\u001b[0m\n",
      "\u001b[1;32m~\\anaconda3\\lib\\site-packages\\matplotlib\\axes\\_axes.py\u001b[0m in \u001b[0;36mbar\u001b[1;34m(self, x, height, width, bottom, align, **kwargs)\u001b[0m\n\u001b[0;32m   2340\u001b[0m                 \u001b[0myerr\u001b[0m \u001b[1;33m=\u001b[0m \u001b[0mself\u001b[0m\u001b[1;33m.\u001b[0m\u001b[0m_convert_dx\u001b[0m\u001b[1;33m(\u001b[0m\u001b[0myerr\u001b[0m\u001b[1;33m,\u001b[0m \u001b[0my0\u001b[0m\u001b[1;33m,\u001b[0m \u001b[0my\u001b[0m\u001b[1;33m,\u001b[0m \u001b[0mself\u001b[0m\u001b[1;33m.\u001b[0m\u001b[0mconvert_yunits\u001b[0m\u001b[1;33m)\u001b[0m\u001b[1;33m\u001b[0m\u001b[1;33m\u001b[0m\u001b[0m\n\u001b[0;32m   2341\u001b[0m \u001b[1;33m\u001b[0m\u001b[0m\n\u001b[1;32m-> 2342\u001b[1;33m         x, height, width, y, linewidth, hatch = np.broadcast_arrays(\n\u001b[0m\u001b[0;32m   2343\u001b[0m             \u001b[1;31m# Make args iterable too.\u001b[0m\u001b[1;33m\u001b[0m\u001b[1;33m\u001b[0m\u001b[0m\n\u001b[0;32m   2344\u001b[0m             np.atleast_1d(x), height, width, y, linewidth, hatch)\n",
      "\u001b[1;32m~\\anaconda3\\lib\\site-packages\\numpy\\lib\\stride_tricks.py\u001b[0m in \u001b[0;36mbroadcast_arrays\u001b[1;34m(subok, *args)\u001b[0m\n\u001b[0;32m    538\u001b[0m     \u001b[0margs\u001b[0m \u001b[1;33m=\u001b[0m \u001b[1;33m[\u001b[0m\u001b[0mnp\u001b[0m\u001b[1;33m.\u001b[0m\u001b[0marray\u001b[0m\u001b[1;33m(\u001b[0m\u001b[0m_m\u001b[0m\u001b[1;33m,\u001b[0m \u001b[0mcopy\u001b[0m\u001b[1;33m=\u001b[0m\u001b[1;32mFalse\u001b[0m\u001b[1;33m,\u001b[0m \u001b[0msubok\u001b[0m\u001b[1;33m=\u001b[0m\u001b[0msubok\u001b[0m\u001b[1;33m)\u001b[0m \u001b[1;32mfor\u001b[0m \u001b[0m_m\u001b[0m \u001b[1;32min\u001b[0m \u001b[0margs\u001b[0m\u001b[1;33m]\u001b[0m\u001b[1;33m\u001b[0m\u001b[1;33m\u001b[0m\u001b[0m\n\u001b[0;32m    539\u001b[0m \u001b[1;33m\u001b[0m\u001b[0m\n\u001b[1;32m--> 540\u001b[1;33m     \u001b[0mshape\u001b[0m \u001b[1;33m=\u001b[0m \u001b[0m_broadcast_shape\u001b[0m\u001b[1;33m(\u001b[0m\u001b[1;33m*\u001b[0m\u001b[0margs\u001b[0m\u001b[1;33m)\u001b[0m\u001b[1;33m\u001b[0m\u001b[1;33m\u001b[0m\u001b[0m\n\u001b[0m\u001b[0;32m    541\u001b[0m \u001b[1;33m\u001b[0m\u001b[0m\n\u001b[0;32m    542\u001b[0m     \u001b[1;32mif\u001b[0m \u001b[0mall\u001b[0m\u001b[1;33m(\u001b[0m\u001b[0marray\u001b[0m\u001b[1;33m.\u001b[0m\u001b[0mshape\u001b[0m \u001b[1;33m==\u001b[0m \u001b[0mshape\u001b[0m \u001b[1;32mfor\u001b[0m \u001b[0marray\u001b[0m \u001b[1;32min\u001b[0m \u001b[0margs\u001b[0m\u001b[1;33m)\u001b[0m\u001b[1;33m:\u001b[0m\u001b[1;33m\u001b[0m\u001b[1;33m\u001b[0m\u001b[0m\n",
      "\u001b[1;32m~\\anaconda3\\lib\\site-packages\\numpy\\lib\\stride_tricks.py\u001b[0m in \u001b[0;36m_broadcast_shape\u001b[1;34m(*args)\u001b[0m\n\u001b[0;32m    420\u001b[0m     \u001b[1;31m# use the old-iterator because np.nditer does not handle size 0 arrays\u001b[0m\u001b[1;33m\u001b[0m\u001b[1;33m\u001b[0m\u001b[0m\n\u001b[0;32m    421\u001b[0m     \u001b[1;31m# consistently\u001b[0m\u001b[1;33m\u001b[0m\u001b[1;33m\u001b[0m\u001b[0m\n\u001b[1;32m--> 422\u001b[1;33m     \u001b[0mb\u001b[0m \u001b[1;33m=\u001b[0m \u001b[0mnp\u001b[0m\u001b[1;33m.\u001b[0m\u001b[0mbroadcast\u001b[0m\u001b[1;33m(\u001b[0m\u001b[1;33m*\u001b[0m\u001b[0margs\u001b[0m\u001b[1;33m[\u001b[0m\u001b[1;33m:\u001b[0m\u001b[1;36m32\u001b[0m\u001b[1;33m]\u001b[0m\u001b[1;33m)\u001b[0m\u001b[1;33m\u001b[0m\u001b[1;33m\u001b[0m\u001b[0m\n\u001b[0m\u001b[0;32m    423\u001b[0m     \u001b[1;31m# unfortunately, it cannot handle 32 or more arguments directly\u001b[0m\u001b[1;33m\u001b[0m\u001b[1;33m\u001b[0m\u001b[0m\n\u001b[0;32m    424\u001b[0m     \u001b[1;32mfor\u001b[0m \u001b[0mpos\u001b[0m \u001b[1;32min\u001b[0m \u001b[0mrange\u001b[0m\u001b[1;33m(\u001b[0m\u001b[1;36m32\u001b[0m\u001b[1;33m,\u001b[0m \u001b[0mlen\u001b[0m\u001b[1;33m(\u001b[0m\u001b[0margs\u001b[0m\u001b[1;33m)\u001b[0m\u001b[1;33m,\u001b[0m \u001b[1;36m31\u001b[0m\u001b[1;33m)\u001b[0m\u001b[1;33m:\u001b[0m\u001b[1;33m\u001b[0m\u001b[1;33m\u001b[0m\u001b[0m\n",
      "\u001b[1;31mValueError\u001b[0m: shape mismatch: objects cannot be broadcast to a single shape.  Mismatch is between arg 0 with shape (528,) and arg 1 with shape (94, 192)."
     ]
    },
    {
     "data": {
      "image/png": "[encoded data removed]",
      "text/plain": [
       "<Figure size 640x480 with 1 Axes>"
      ]
     },
     "metadata": {},
     "output_type": "display_data"
    }
   ],
   "source": [
    "# Plot the bar plot \n",
    "#fig = plt.figure()\n",
    "#ax = fig.add_subplot(1, 1, 1)\n",
    "\n",
    "plt.bar(years,annualAverage,label=\"Bars 1\",color=\"black\")\n",
    "plt.xlabel('Rainfall Rate (mm/day)')\n",
    "plt.ylabel('Year')\n",
    "plt.title('Global Annual-Average Rainfall Rate')"
   ]
  },
  {
   "cell_type": "code",
   "execution_count": null,
   "metadata": {},
   "outputs": [],
   "source": [
    "#============================================================================\n",
    "# Plot the spatial climo map. The variable you will be plotting is called\n",
    "# plotClimoPrecip (see below). Use on a Robinson projection.\n",
    "# Choose an appropriate colorbar for your precipitation. Lots of choices!\n",
    "# https://matplotlib.org/3.1.0/tutorials/colors/colormaps.html\n",
    "\n",
    "# Some details on cartopy projections.\n",
    "# https://scitools.org.uk/cartopy/docs/v0.15/crs/projections.html\n",
    "\n",
    "# A short tutorial on plotting with cartopy from Dr. Pegion.\n",
    "# https://kpegion.github.io/Pangeo-at-AOES/examples/cartopy-tutorial.html\n",
    "#============================================================================\n",
    "\n",
    "#============================================================================\n",
    "# Use these limits and contour intervals for your plot.\n",
    "#============================================================================\n",
    "cmin = 0.\n",
    "cmax = 8.1\n",
    "cint = 0.5\n",
    "clevs = np.round(np.arange(cmin,cmax,cint),1)\n",
    "\n",
    "\n",
    "#============================================================================\n",
    "# Choose your own colormap for the shaded contours.\n",
    "#============================================================================\n",
    "cmap = ?\n",
    "\n",
    "\n",
    "#============================================================================\n",
    "# Use this code to fill in the data gap at the Prime Meridian.\n",
    "# The variable you will be contouring is plotClimoPrecip.\n",
    "# See https://kpegion.github.io/Pangeo-at-AOES/examples/cartopy-tutorial.html\n",
    "# for more information.\n",
    "#============================================================================\n",
    "plotClimoPrecip,longitude2 = add_cyclic_point(climoPrecip,longitude)\n",
    "\n",
    "\n",
    "#============================================================================\n",
    "# Use plotLon and plotLat as your variables when making your map.\n",
    "#============================================================================\n",
    "plotLon,plotLat = np.meshgrid(longitude2,latitude)\n",
    "\n",
    "\n",
    "#============================================================================\n",
    "# Code to set up the map, including the projection and adding \"features\"\n",
    "# to the map (e.g., coastlines and country borders).\n",
    "#============================================================================\n",
    "projection = ccrs.Robinson(central_longitude=180)\n",
    "data_crs = ccrs.PlateCarree()\n",
    "\n",
    "plt.figure(figsize=(12,8))\n",
    "ax = plt.subplot(111, projection=projection)\n",
    "ax.add_feature(cfeature.COASTLINE,linewidth=1)\n",
    "ax.add_feature(cfeature.BORDERS,linewidth=0.5)\n",
    "\n",
    "\n",
    "#============================================================================\n",
    "# Write code here to do filled contours of plotClimoPrecip. Use plotLon and\n",
    "# plotLat as your plotting variables. Make sure to add a colorbar with units.\n",
    "# Be sure to include the keyword 'transform=data_crs'.\n",
    "#============================================================================\n",
    "cs = ax.contourf(?,transform=data_crs)\n",
    "\n",
    "\n",
    "#============================================================================\n",
    "# Add an appropriate title to your plot and save it.\n",
    "#============================================================================\n",
    "plt.title(????) # See homework for what should be in the title.\n",
    "plt.show()\n",
    "plt.savefig('YOURFILENAMEWITHFULLPATH.png',dpi=400)\n",
    "\n",
    "\n",
    "#============================================================================\n",
    "# The second plot is a bar plot of global-average precipitation\n",
    "# as a function of year). The variable you are plotting is globalAvgPrecip.\n",
    "# Be sure to label each axis appropriately and also add an informative title.\n",
    "#============================================================================\n",
    "taxis = np.arange(1979,2023)\n",
    "\n",
    "plt.figure()\n",
    "?\n",
    "?\n",
    "?\n",
    "\n",
    "plt.title(???)\n",
    "plt.xlabel(???)\n",
    "plt.ylabel(???)\n",
    "\n",
    "plt.show()\n",
    "#plt.savefig('YOURFILENAMEWITHFULLPATH.png',dpi=400)\n"
   ]
  }
 ],
 "metadata": {
  "kernelspec": {
   "display_name": "base",
   "language": "python",
   "name": "python3"
  },
  "language_info": {
   "codemirror_mode": {
    "name": "ipython",
    "version": 3
   },
   "file_extension": ".py",
   "mimetype": "text/x-python",
   "name": "python",
   "nbconvert_exporter": "python",
   "pygments_lexer": "ipython3",
   "version": "3.9.16"
  }
 },
 "nbformat": 4,
 "nbformat_minor": 2
}
